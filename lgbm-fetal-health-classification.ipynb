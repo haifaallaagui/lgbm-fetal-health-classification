{
 "cells": [
  {
   "cell_type": "markdown",
   "metadata": {},
   "source": [
    "<div align=\"center\">\n",
    "<font size=\"4\"> Context  </font>  \n",
    "</div> \n",
    "\n",
    "La réduction de la mortalité infantile se reflète dans plusieurs des objectifs de développement durable des Nations Unies et est un indicateur clé du progrès humain. L'ONU s'attend à ce que d'ici 2030, les pays mettent fin aux décès évitables de nouveau-nés et d'enfants de moins de 5 ans, tous les pays visant à réduire la mortalité des moins de 5 ans à au moins 25 pour 1 000 naissances vivantes.\n",
    "\n",
    "Parallèlement à la notion de mortalité infantile, il y a bien sûr la mortalité maternelle, qui représente 295 000 décès pendant et après la grossesse et l'accouchement (en 2017). La grande majorité de ces décès (94 %) sont survenus dans des milieux à faibles ressources, et la plupart auraient pu être évités.\n",
    "\n",
    "À la lumière de ce qui a été mentionné ci-dessus, les cardiotocogrammes (CTG) sont une option simple et abordable pour évaluer la santé fœtale, permettant aux professionnels de la santé d'agir afin de prévenir la mortalité infantile et maternelle. L'équipement lui-même fonctionne en envoyant des impulsions ultrasonores et en lisant sa réponse, mettant ainsi en lumière la fréquence cardiaque fœtale (FCF), les mouvements fœtaux, les contractions utérines et plus encore.\n",
    "<div align=\"center\">\n",
    "<font size=\"4\"> Data  </font>  \n",
    "</div> \n",
    "\n",
    "Cet ensemble de données contient **2126 enregistrements** de caractéristiques extraites d'examens de cardiotocogramme, qui ont ensuite été classées par trois obstétriciens experts en **3 classes** :\n",
    "- Normal\n",
    "- Suspect\n",
    "- Pathological\n",
    "\n"
   ]
  },
  {
   "cell_type": "markdown",
   "metadata": {},
   "source": [
    "<h2 style=color:Teal align=\"left\"> Table of Contents </h2>\n",
    "\n",
    "### 1 Import packages\n",
    "#### 1.1 Kaggle and other imports\n",
    "#### 1.2 Importations de visualisation\n",
    "#### 1.3 Import Scikit-Learn\n",
    "#### 1.4 Import LightGBM\n",
    "### 2 Configs\n",
    "### 3 Dataset\n",
    "#### 3.1 Class imbalance\n",
    "#### 3.2 Data scaling\n",
    "#### 3.3 Data split\n",
    "#### 3.4 Class weights\n",
    "#### 3.5 Validation set\n",
    "### 4 Model\n",
    "#### 4.1 Build model\n",
    "#### 4.2 Fit model\n",
    "#### 4.3 Feature importance\n",
    "### 5 Grid search\n",
    "#### 5.1 Grid parameters\n",
    "#### 5.2 Fit model\n",
    "#### 5.3 Save optimum parameters\n",
    "#### 5.4 Fit tuned model\n",
    "#### 5.5 Feature importance for tuned model\n"
   ]
  },
  {
   "cell_type": "markdown",
   "metadata": {},
   "source": [
    "<h1 style=\"background-color:LightSeaGreen; font-family:newtimeroman; font-size:200%; text-align:left;\"> 1 Import packages </h1>"
   ]
  },
  {
   "cell_type": "markdown",
   "metadata": {},
   "source": [
    "<h1 style=\"background-color:LightSeaGreen; font-family:newtimeroman; font-size:200%; text-align:left;\"> 1.1 Kaggle and other imports </h1>"
   ]
  },
  {
   "cell_type": "code",
   "execution_count": 5,
   "metadata": {
    "execution": {
     "iopub.execute_input": "2021-12-08T21:06:26.993348Z",
     "iopub.status.busy": "2021-12-08T21:06:26.992859Z",
     "iopub.status.idle": "2021-12-08T21:06:27.022131Z",
     "shell.execute_reply": "2021-12-08T21:06:27.020946Z",
     "shell.execute_reply.started": "2021-12-08T21:06:26.993248Z"
    }
   },
   "outputs": [],
   "source": [
    "import os\n",
    "import gc\n",
    "import time\n",
    "import tqdm\n",
    "import pickle\n",
    "import random\n",
    "\n",
    "\n",
    "import numpy as np # linear algebra\n",
    "import pandas as pd # data processing, CSV file I/O (e.g. pd.read_csv)\n",
    "\n",
    "# Les fichiers de données d'entrée sont disponibles dans le répertoire en lecture seule \"../input/\"\n",
    "\n",
    "\n",
    "import os\n",
    "for dirname, _, filenames in os.walk('/kaggle/input'):\n",
    "    for filename in filenames:\n",
    "        print(os.path.join(dirname, filename))\n",
    "\n",
    "# utiliser pour avoir le lien de data directement de kaggle"
   ]
  },
  {
   "cell_type": "markdown",
   "metadata": {},
   "source": [
    "<h1 style=\"background-color:LightSeaGreen; font-family:newtimeroman; font-size:200%; text-align:left;\"> 1.2 Visualization imports </h1>"
   ]
  },
  {
   "cell_type": "code",
   "execution_count": 6,
   "metadata": {
    "execution": {
     "iopub.execute_input": "2021-12-08T21:06:27.024694Z",
     "iopub.status.busy": "2021-12-08T21:06:27.023910Z",
     "iopub.status.idle": "2021-12-08T21:06:27.920442Z",
     "shell.execute_reply": "2021-12-08T21:06:27.919346Z",
     "shell.execute_reply.started": "2021-12-08T21:06:27.024638Z"
    }
   },
   "outputs": [],
   "source": [
    "import seaborn as sns\n",
    "import matplotlib.pyplot as plt\n",
    "from matplotlib.legend_handler import HandlerBase\n",
    "from matplotlib.text import Text\n",
    "\n",
    "import warnings\n",
    "warnings.filterwarnings('ignore')"
   ]
  },
  {
   "cell_type": "markdown",
   "metadata": {},
   "source": [
    "<h1 style=\"background-color:LightSeaGreen; font-family:newtimeroman; font-size:200%; text-align:left;\"> 1.3 Import Scikit-Learn </h1>"
   ]
  },
  {
   "cell_type": "code",
   "execution_count": 7,
   "metadata": {
    "execution": {
     "iopub.execute_input": "2021-12-08T21:06:27.923341Z",
     "iopub.status.busy": "2021-12-08T21:06:27.922833Z",
     "iopub.status.idle": "2021-12-08T21:06:28.132618Z",
     "shell.execute_reply": "2021-12-08T21:06:28.131816Z",
     "shell.execute_reply.started": "2021-12-08T21:06:27.923288Z"
    }
   },
   "outputs": [],
   "source": [
    "from sklearn.model_selection import train_test_split, GridSearchCV\n",
    "from sklearn.metrics import roc_auc_score, accuracy_score\n",
    "from sklearn.utils import class_weight\n",
    "from sklearn.preprocessing import StandardScaler, MinMaxScaler, LabelEncoder"
   ]
  },
  {
   "cell_type": "markdown",
   "metadata": {},
   "source": [
    "<h1 style=\"background-color:LightSeaGreen; font-family:newtimeroman; font-size:200%; text-align:left;\"> 1.4 Import LightGBM </h1>"
   ]
  },
  {
   "cell_type": "code",
   "execution_count": 8,
   "metadata": {
    "execution": {
     "iopub.execute_input": "2021-12-08T21:06:28.134641Z",
     "iopub.status.busy": "2021-12-08T21:06:28.134137Z",
     "iopub.status.idle": "2021-12-08T21:06:29.423366Z",
     "shell.execute_reply": "2021-12-08T21:06:29.422263Z",
     "shell.execute_reply.started": "2021-12-08T21:06:28.134608Z"
    }
   },
   "outputs": [
    {
     "ename": "ModuleNotFoundError",
     "evalue": "No module named 'lightgbm'",
     "output_type": "error",
     "traceback": [
      "\u001b[1;31m---------------------------------------------------------------------------\u001b[0m",
      "\u001b[1;31mModuleNotFoundError\u001b[0m                       Traceback (most recent call last)",
      "\u001b[1;32m<ipython-input-8-487ba3a1c9d1>\u001b[0m in \u001b[0;36m<module>\u001b[1;34m\u001b[0m\n\u001b[1;32m----> 1\u001b[1;33m \u001b[1;32mimport\u001b[0m \u001b[0mlightgbm\u001b[0m \u001b[1;32mas\u001b[0m \u001b[0mlgb\u001b[0m \u001b[1;31m#pour le modele\u001b[0m\u001b[1;33m\u001b[0m\u001b[1;33m\u001b[0m\u001b[0m\n\u001b[0m",
      "\u001b[1;31mModuleNotFoundError\u001b[0m: No module named 'lightgbm'"
     ]
    }
   ],
   "source": [
    "import lightgbm as lgb #pour le modele"
   ]
  },
  {
   "cell_type": "markdown",
   "metadata": {},
   "source": [
    "<h1 style=\"background-color:LightSeaGreen; font-family:newtimeroman; font-size:200%; text-align:left;\"> 2 Configs </h1>"
   ]
  },
  {
   "cell_type": "code",
   "execution_count": 9,
   "metadata": {
    "execution": {
     "iopub.execute_input": "2021-12-08T21:06:29.425626Z",
     "iopub.status.busy": "2021-12-08T21:06:29.425303Z",
     "iopub.status.idle": "2021-12-08T21:06:29.431159Z",
     "shell.execute_reply": "2021-12-08T21:06:29.430143Z",
     "shell.execute_reply.started": "2021-12-08T21:06:29.425595Z"
    }
   },
   "outputs": [],
   "source": [
    "SEED = 123      \n",
    "random.seed(SEED)\n",
    "\n",
    "TEST_SIZE = 0.20\n",
    "VAL_SIZE = 0.15"
   ]
  },
  {
   "cell_type": "markdown",
   "metadata": {
    "execution": {
     "iopub.execute_input": "2021-05-29T17:21:47.410414Z",
     "iopub.status.busy": "2021-05-29T17:21:47.409889Z",
     "iopub.status.idle": "2021-05-29T17:21:47.419967Z",
     "shell.execute_reply": "2021-05-29T17:21:47.41893Z",
     "shell.execute_reply.started": "2021-05-29T17:21:47.410311Z"
    }
   },
   "source": [
    "<h1 style=\"background-color:LightSeaGreen; font-family:newtimeroman; font-size:200%; text-align:left;\"> 3 Dataset </h1>"
   ]
  },
  {
   "cell_type": "code",
   "execution_count": 10,
   "metadata": {
    "execution": {
     "iopub.execute_input": "2021-12-08T21:06:29.432912Z",
     "iopub.status.busy": "2021-12-08T21:06:29.432562Z",
     "iopub.status.idle": "2021-12-08T21:06:29.467978Z",
     "shell.execute_reply": "2021-12-08T21:06:29.467079Z",
     "shell.execute_reply.started": "2021-12-08T21:06:29.432880Z"
    }
   },
   "outputs": [
    {
     "ename": "FileNotFoundError",
     "evalue": "[Errno 2] File b'' does not exist: b''",
     "output_type": "error",
     "traceback": [
      "\u001b[1;31m---------------------------------------------------------------------------\u001b[0m",
      "\u001b[1;31mFileNotFoundError\u001b[0m                         Traceback (most recent call last)",
      "\u001b[1;32m<ipython-input-10-cfae556f2857>\u001b[0m in \u001b[0;36m<module>\u001b[1;34m\u001b[0m\n\u001b[1;32m----> 1\u001b[1;33m \u001b[0mdata\u001b[0m \u001b[1;33m=\u001b[0m \u001b[0mpd\u001b[0m\u001b[1;33m.\u001b[0m\u001b[0mread_csv\u001b[0m\u001b[1;33m(\u001b[0m\u001b[1;34m\"\"\u001b[0m\u001b[1;33m)\u001b[0m\u001b[1;33m\u001b[0m\u001b[1;33m\u001b[0m\u001b[0m\n\u001b[0m\u001b[0;32m      2\u001b[0m \u001b[1;31m#pour afficher data\u001b[0m\u001b[1;33m\u001b[0m\u001b[1;33m\u001b[0m\u001b[1;33m\u001b[0m\u001b[0m\n",
      "\u001b[1;32m~\\Anaconda3\\lib\\site-packages\\pandas\\io\\parsers.py\u001b[0m in \u001b[0;36mparser_f\u001b[1;34m(filepath_or_buffer, sep, delimiter, header, names, index_col, usecols, squeeze, prefix, mangle_dupe_cols, dtype, engine, converters, true_values, false_values, skipinitialspace, skiprows, skipfooter, nrows, na_values, keep_default_na, na_filter, verbose, skip_blank_lines, parse_dates, infer_datetime_format, keep_date_col, date_parser, dayfirst, cache_dates, iterator, chunksize, compression, thousands, decimal, lineterminator, quotechar, quoting, doublequote, escapechar, comment, encoding, dialect, error_bad_lines, warn_bad_lines, delim_whitespace, low_memory, memory_map, float_precision)\u001b[0m\n\u001b[0;32m    683\u001b[0m         )\n\u001b[0;32m    684\u001b[0m \u001b[1;33m\u001b[0m\u001b[0m\n\u001b[1;32m--> 685\u001b[1;33m         \u001b[1;32mreturn\u001b[0m \u001b[0m_read\u001b[0m\u001b[1;33m(\u001b[0m\u001b[0mfilepath_or_buffer\u001b[0m\u001b[1;33m,\u001b[0m \u001b[0mkwds\u001b[0m\u001b[1;33m)\u001b[0m\u001b[1;33m\u001b[0m\u001b[1;33m\u001b[0m\u001b[0m\n\u001b[0m\u001b[0;32m    686\u001b[0m \u001b[1;33m\u001b[0m\u001b[0m\n\u001b[0;32m    687\u001b[0m     \u001b[0mparser_f\u001b[0m\u001b[1;33m.\u001b[0m\u001b[0m__name__\u001b[0m \u001b[1;33m=\u001b[0m \u001b[0mname\u001b[0m\u001b[1;33m\u001b[0m\u001b[1;33m\u001b[0m\u001b[0m\n",
      "\u001b[1;32m~\\Anaconda3\\lib\\site-packages\\pandas\\io\\parsers.py\u001b[0m in \u001b[0;36m_read\u001b[1;34m(filepath_or_buffer, kwds)\u001b[0m\n\u001b[0;32m    455\u001b[0m \u001b[1;33m\u001b[0m\u001b[0m\n\u001b[0;32m    456\u001b[0m     \u001b[1;31m# Create the parser.\u001b[0m\u001b[1;33m\u001b[0m\u001b[1;33m\u001b[0m\u001b[1;33m\u001b[0m\u001b[0m\n\u001b[1;32m--> 457\u001b[1;33m     \u001b[0mparser\u001b[0m \u001b[1;33m=\u001b[0m \u001b[0mTextFileReader\u001b[0m\u001b[1;33m(\u001b[0m\u001b[0mfp_or_buf\u001b[0m\u001b[1;33m,\u001b[0m \u001b[1;33m**\u001b[0m\u001b[0mkwds\u001b[0m\u001b[1;33m)\u001b[0m\u001b[1;33m\u001b[0m\u001b[1;33m\u001b[0m\u001b[0m\n\u001b[0m\u001b[0;32m    458\u001b[0m \u001b[1;33m\u001b[0m\u001b[0m\n\u001b[0;32m    459\u001b[0m     \u001b[1;32mif\u001b[0m \u001b[0mchunksize\u001b[0m \u001b[1;32mor\u001b[0m \u001b[0miterator\u001b[0m\u001b[1;33m:\u001b[0m\u001b[1;33m\u001b[0m\u001b[1;33m\u001b[0m\u001b[0m\n",
      "\u001b[1;32m~\\Anaconda3\\lib\\site-packages\\pandas\\io\\parsers.py\u001b[0m in \u001b[0;36m__init__\u001b[1;34m(self, f, engine, **kwds)\u001b[0m\n\u001b[0;32m    893\u001b[0m             \u001b[0mself\u001b[0m\u001b[1;33m.\u001b[0m\u001b[0moptions\u001b[0m\u001b[1;33m[\u001b[0m\u001b[1;34m\"has_index_names\"\u001b[0m\u001b[1;33m]\u001b[0m \u001b[1;33m=\u001b[0m \u001b[0mkwds\u001b[0m\u001b[1;33m[\u001b[0m\u001b[1;34m\"has_index_names\"\u001b[0m\u001b[1;33m]\u001b[0m\u001b[1;33m\u001b[0m\u001b[1;33m\u001b[0m\u001b[0m\n\u001b[0;32m    894\u001b[0m \u001b[1;33m\u001b[0m\u001b[0m\n\u001b[1;32m--> 895\u001b[1;33m         \u001b[0mself\u001b[0m\u001b[1;33m.\u001b[0m\u001b[0m_make_engine\u001b[0m\u001b[1;33m(\u001b[0m\u001b[0mself\u001b[0m\u001b[1;33m.\u001b[0m\u001b[0mengine\u001b[0m\u001b[1;33m)\u001b[0m\u001b[1;33m\u001b[0m\u001b[1;33m\u001b[0m\u001b[0m\n\u001b[0m\u001b[0;32m    896\u001b[0m \u001b[1;33m\u001b[0m\u001b[0m\n\u001b[0;32m    897\u001b[0m     \u001b[1;32mdef\u001b[0m \u001b[0mclose\u001b[0m\u001b[1;33m(\u001b[0m\u001b[0mself\u001b[0m\u001b[1;33m)\u001b[0m\u001b[1;33m:\u001b[0m\u001b[1;33m\u001b[0m\u001b[1;33m\u001b[0m\u001b[0m\n",
      "\u001b[1;32m~\\Anaconda3\\lib\\site-packages\\pandas\\io\\parsers.py\u001b[0m in \u001b[0;36m_make_engine\u001b[1;34m(self, engine)\u001b[0m\n\u001b[0;32m   1133\u001b[0m     \u001b[1;32mdef\u001b[0m \u001b[0m_make_engine\u001b[0m\u001b[1;33m(\u001b[0m\u001b[0mself\u001b[0m\u001b[1;33m,\u001b[0m \u001b[0mengine\u001b[0m\u001b[1;33m=\u001b[0m\u001b[1;34m\"c\"\u001b[0m\u001b[1;33m)\u001b[0m\u001b[1;33m:\u001b[0m\u001b[1;33m\u001b[0m\u001b[1;33m\u001b[0m\u001b[0m\n\u001b[0;32m   1134\u001b[0m         \u001b[1;32mif\u001b[0m \u001b[0mengine\u001b[0m \u001b[1;33m==\u001b[0m \u001b[1;34m\"c\"\u001b[0m\u001b[1;33m:\u001b[0m\u001b[1;33m\u001b[0m\u001b[1;33m\u001b[0m\u001b[0m\n\u001b[1;32m-> 1135\u001b[1;33m             \u001b[0mself\u001b[0m\u001b[1;33m.\u001b[0m\u001b[0m_engine\u001b[0m \u001b[1;33m=\u001b[0m \u001b[0mCParserWrapper\u001b[0m\u001b[1;33m(\u001b[0m\u001b[0mself\u001b[0m\u001b[1;33m.\u001b[0m\u001b[0mf\u001b[0m\u001b[1;33m,\u001b[0m \u001b[1;33m**\u001b[0m\u001b[0mself\u001b[0m\u001b[1;33m.\u001b[0m\u001b[0moptions\u001b[0m\u001b[1;33m)\u001b[0m\u001b[1;33m\u001b[0m\u001b[1;33m\u001b[0m\u001b[0m\n\u001b[0m\u001b[0;32m   1136\u001b[0m         \u001b[1;32melse\u001b[0m\u001b[1;33m:\u001b[0m\u001b[1;33m\u001b[0m\u001b[1;33m\u001b[0m\u001b[0m\n\u001b[0;32m   1137\u001b[0m             \u001b[1;32mif\u001b[0m \u001b[0mengine\u001b[0m \u001b[1;33m==\u001b[0m \u001b[1;34m\"python\"\u001b[0m\u001b[1;33m:\u001b[0m\u001b[1;33m\u001b[0m\u001b[1;33m\u001b[0m\u001b[0m\n",
      "\u001b[1;32m~\\Anaconda3\\lib\\site-packages\\pandas\\io\\parsers.py\u001b[0m in \u001b[0;36m__init__\u001b[1;34m(self, src, **kwds)\u001b[0m\n\u001b[0;32m   1915\u001b[0m         \u001b[0mkwds\u001b[0m\u001b[1;33m[\u001b[0m\u001b[1;34m\"usecols\"\u001b[0m\u001b[1;33m]\u001b[0m \u001b[1;33m=\u001b[0m \u001b[0mself\u001b[0m\u001b[1;33m.\u001b[0m\u001b[0musecols\u001b[0m\u001b[1;33m\u001b[0m\u001b[1;33m\u001b[0m\u001b[0m\n\u001b[0;32m   1916\u001b[0m \u001b[1;33m\u001b[0m\u001b[0m\n\u001b[1;32m-> 1917\u001b[1;33m         \u001b[0mself\u001b[0m\u001b[1;33m.\u001b[0m\u001b[0m_reader\u001b[0m \u001b[1;33m=\u001b[0m \u001b[0mparsers\u001b[0m\u001b[1;33m.\u001b[0m\u001b[0mTextReader\u001b[0m\u001b[1;33m(\u001b[0m\u001b[0msrc\u001b[0m\u001b[1;33m,\u001b[0m \u001b[1;33m**\u001b[0m\u001b[0mkwds\u001b[0m\u001b[1;33m)\u001b[0m\u001b[1;33m\u001b[0m\u001b[1;33m\u001b[0m\u001b[0m\n\u001b[0m\u001b[0;32m   1918\u001b[0m         \u001b[0mself\u001b[0m\u001b[1;33m.\u001b[0m\u001b[0munnamed_cols\u001b[0m \u001b[1;33m=\u001b[0m \u001b[0mself\u001b[0m\u001b[1;33m.\u001b[0m\u001b[0m_reader\u001b[0m\u001b[1;33m.\u001b[0m\u001b[0munnamed_cols\u001b[0m\u001b[1;33m\u001b[0m\u001b[1;33m\u001b[0m\u001b[0m\n\u001b[0;32m   1919\u001b[0m \u001b[1;33m\u001b[0m\u001b[0m\n",
      "\u001b[1;32mpandas\\_libs\\parsers.pyx\u001b[0m in \u001b[0;36mpandas._libs.parsers.TextReader.__cinit__\u001b[1;34m()\u001b[0m\n",
      "\u001b[1;32mpandas\\_libs\\parsers.pyx\u001b[0m in \u001b[0;36mpandas._libs.parsers.TextReader._setup_parser_source\u001b[1;34m()\u001b[0m\n",
      "\u001b[1;31mFileNotFoundError\u001b[0m: [Errno 2] File b'' does not exist: b''"
     ]
    }
   ],
   "source": [
    "data = pd.read_csv(\"\")\n",
    "#pour afficher data"
   ]
  },
  {
   "cell_type": "code",
   "execution_count": 11,
   "metadata": {
    "execution": {
     "iopub.execute_input": "2021-12-08T21:06:29.472973Z",
     "iopub.status.busy": "2021-12-08T21:06:29.472338Z",
     "iopub.status.idle": "2021-12-08T21:06:29.539074Z",
     "shell.execute_reply": "2021-12-08T21:06:29.537978Z",
     "shell.execute_reply.started": "2021-12-08T21:06:29.472927Z"
    }
   },
   "outputs": [
    {
     "ename": "NameError",
     "evalue": "name 'data' is not defined",
     "output_type": "error",
     "traceback": [
      "\u001b[1;31m---------------------------------------------------------------------------\u001b[0m",
      "\u001b[1;31mNameError\u001b[0m                                 Traceback (most recent call last)",
      "\u001b[1;32m<ipython-input-11-c5d84736ba45>\u001b[0m in \u001b[0;36m<module>\u001b[1;34m\u001b[0m\n\u001b[1;32m----> 1\u001b[1;33m \u001b[0mdata\u001b[0m\u001b[1;33m\u001b[0m\u001b[1;33m\u001b[0m\u001b[0m\n\u001b[0m",
      "\u001b[1;31mNameError\u001b[0m: name 'data' is not defined"
     ]
    }
   ],
   "source": [
    "data"
   ]
  },
  {
   "cell_type": "markdown",
   "metadata": {},
   "source": [
    "<h1 style=\"background-color:LightSeaGreen; font-family:newtimeroman; font-size:200%; text-align:left;\"> 3.1 Class imbalance </h1>"
   ]
  },
  {
   "cell_type": "code",
   "execution_count": 12,
   "metadata": {
    "execution": {
     "iopub.execute_input": "2021-12-08T21:06:29.541950Z",
     "iopub.status.busy": "2021-12-08T21:06:29.541290Z",
     "iopub.status.idle": "2021-12-08T21:06:29.720534Z",
     "shell.execute_reply": "2021-12-08T21:06:29.719526Z",
     "shell.execute_reply.started": "2021-12-08T21:06:29.541851Z"
    }
   },
   "outputs": [
    {
     "ename": "NameError",
     "evalue": "name 'data' is not defined",
     "output_type": "error",
     "traceback": [
      "\u001b[1;31m---------------------------------------------------------------------------\u001b[0m",
      "\u001b[1;31mNameError\u001b[0m                                 Traceback (most recent call last)",
      "\u001b[1;32m<ipython-input-12-6092553827e8>\u001b[0m in \u001b[0;36m<module>\u001b[1;34m\u001b[0m\n\u001b[0;32m      1\u001b[0m \u001b[0mplt\u001b[0m\u001b[1;33m.\u001b[0m\u001b[0mfigure\u001b[0m\u001b[1;33m(\u001b[0m\u001b[0mfigsize\u001b[0m\u001b[1;33m=\u001b[0m\u001b[1;33m(\u001b[0m\u001b[1;36m6\u001b[0m\u001b[1;33m,\u001b[0m\u001b[1;36m5\u001b[0m\u001b[1;33m)\u001b[0m\u001b[1;33m)\u001b[0m\u001b[1;33m\u001b[0m\u001b[1;33m\u001b[0m\u001b[0m\n\u001b[1;32m----> 2\u001b[1;33m \u001b[0max\u001b[0m \u001b[1;33m=\u001b[0m \u001b[0msns\u001b[0m\u001b[1;33m.\u001b[0m\u001b[0mcountplot\u001b[0m\u001b[1;33m(\u001b[0m\u001b[0mx\u001b[0m \u001b[1;33m=\u001b[0m \u001b[0mdata\u001b[0m\u001b[1;33m[\u001b[0m\u001b[1;34m'fetal_health'\u001b[0m\u001b[1;33m]\u001b[0m\u001b[1;33m)\u001b[0m\u001b[1;33m\u001b[0m\u001b[1;33m\u001b[0m\u001b[0m\n\u001b[0m\u001b[0;32m      3\u001b[0m \u001b[1;31m#cest de faire avoir le targe\u001b[0m\u001b[1;33m\u001b[0m\u001b[1;33m\u001b[0m\u001b[1;33m\u001b[0m\u001b[0m\n\u001b[0;32m      4\u001b[0m \u001b[1;33m\u001b[0m\u001b[0m\n\u001b[0;32m      5\u001b[0m \u001b[1;31m#1-Normal\u001b[0m\u001b[1;33m\u001b[0m\u001b[1;33m\u001b[0m\u001b[1;33m\u001b[0m\u001b[0m\n",
      "\u001b[1;31mNameError\u001b[0m: name 'data' is not defined"
     ]
    },
    {
     "data": {
      "text/plain": [
       "<Figure size 432x360 with 0 Axes>"
      ]
     },
     "metadata": {},
     "output_type": "display_data"
    }
   ],
   "source": [
    "plt.figure(figsize=(6,5))\n",
    "ax = sns.countplot(x = data['fetal_health'])\n",
    "#cest de faire avoir le targe\n",
    "\n",
    "#1-Normal\n",
    "#2-Suspect\n",
    "#3-Pathological"
   ]
  },
  {
   "cell_type": "code",
   "execution_count": 13,
   "metadata": {
    "execution": {
     "iopub.execute_input": "2021-12-08T21:06:29.722164Z",
     "iopub.status.busy": "2021-12-08T21:06:29.721851Z",
     "iopub.status.idle": "2021-12-08T21:06:29.729172Z",
     "shell.execute_reply": "2021-12-08T21:06:29.727993Z",
     "shell.execute_reply.started": "2021-12-08T21:06:29.722132Z"
    }
   },
   "outputs": [
    {
     "ename": "NameError",
     "evalue": "name 'data' is not defined",
     "output_type": "error",
     "traceback": [
      "\u001b[1;31m---------------------------------------------------------------------------\u001b[0m",
      "\u001b[1;31mNameError\u001b[0m                                 Traceback (most recent call last)",
      "\u001b[1;32m<ipython-input-13-433c878245f4>\u001b[0m in \u001b[0;36m<module>\u001b[1;34m\u001b[0m\n\u001b[0;32m      1\u001b[0m \u001b[0mlabel\u001b[0m \u001b[1;33m=\u001b[0m \u001b[0mLabelEncoder\u001b[0m\u001b[1;33m(\u001b[0m\u001b[1;33m)\u001b[0m\u001b[1;33m\u001b[0m\u001b[1;33m\u001b[0m\u001b[0m\n\u001b[1;32m----> 2\u001b[1;33m \u001b[0mlabel\u001b[0m\u001b[1;33m.\u001b[0m\u001b[0mfit\u001b[0m\u001b[1;33m(\u001b[0m\u001b[0mdata\u001b[0m\u001b[1;33m[\u001b[0m\u001b[1;34m'fetal_health'\u001b[0m\u001b[1;33m]\u001b[0m\u001b[1;33m)\u001b[0m\u001b[1;33m\u001b[0m\u001b[1;33m\u001b[0m\u001b[0m\n\u001b[0m\u001b[0;32m      3\u001b[0m \u001b[0mdata\u001b[0m\u001b[1;33m[\u001b[0m\u001b[1;34m'fetal_health'\u001b[0m\u001b[1;33m]\u001b[0m \u001b[1;33m=\u001b[0m \u001b[0mlabel\u001b[0m\u001b[1;33m.\u001b[0m\u001b[0mtransform\u001b[0m\u001b[1;33m(\u001b[0m\u001b[0mdata\u001b[0m\u001b[1;33m[\u001b[0m\u001b[1;34m'fetal_health'\u001b[0m\u001b[1;33m]\u001b[0m\u001b[1;33m)\u001b[0m\u001b[1;33m\u001b[0m\u001b[1;33m\u001b[0m\u001b[0m\n\u001b[0;32m      4\u001b[0m \u001b[1;31m#permettre de faire afficher le contunue de l'attribue et pour chaque attribie le  nombre de recurence\u001b[0m\u001b[1;33m\u001b[0m\u001b[1;33m\u001b[0m\u001b[1;33m\u001b[0m\u001b[0m\n\u001b[0;32m      5\u001b[0m \u001b[1;31m# permettre de faire affiche le resulte sous forme de  graph\u001b[0m\u001b[1;33m\u001b[0m\u001b[1;33m\u001b[0m\u001b[1;33m\u001b[0m\u001b[0m\n",
      "\u001b[1;31mNameError\u001b[0m: name 'data' is not defined"
     ]
    }
   ],
   "source": [
    "label = LabelEncoder()\n",
    "label.fit(data['fetal_health'])\n",
    "data['fetal_health'] = label.transform(data['fetal_health'])\n",
    "#permettre de faire afficher le contunue de l'attribue et pour chaque attribie le  nombre de recurence\n",
    "# permettre de faire affiche le resulte sous forme de  graph"
   ]
  },
  {
   "cell_type": "markdown",
   "metadata": {
    "execution": {
     "iopub.execute_input": "2021-05-29T17:25:47.771105Z",
     "iopub.status.busy": "2021-05-29T17:25:47.770607Z",
     "iopub.status.idle": "2021-05-29T17:25:47.808125Z",
     "shell.execute_reply": "2021-05-29T17:25:47.807387Z",
     "shell.execute_reply.started": "2021-05-29T17:25:47.771074Z"
    }
   },
   "source": [
    "<h1 style=\"background-color:LightSeaGreen; font-family:newtimeroman; font-size:200%; text-align:left;\"> 3.2 Data scaling </h1>"
   ]
  },
  {
   "cell_type": "code",
   "execution_count": 14,
   "metadata": {
    "execution": {
     "iopub.execute_input": "2021-12-08T21:06:29.731742Z",
     "iopub.status.busy": "2021-12-08T21:06:29.731108Z",
     "iopub.status.idle": "2021-12-08T21:06:29.739457Z",
     "shell.execute_reply": "2021-12-08T21:06:29.738646Z",
     "shell.execute_reply.started": "2021-12-08T21:06:29.731696Z"
    }
   },
   "outputs": [
    {
     "ename": "NameError",
     "evalue": "name 'data' is not defined",
     "output_type": "error",
     "traceback": [
      "\u001b[1;31m---------------------------------------------------------------------------\u001b[0m",
      "\u001b[1;31mNameError\u001b[0m                                 Traceback (most recent call last)",
      "\u001b[1;32m<ipython-input-14-802daaac4c6f>\u001b[0m in \u001b[0;36m<module>\u001b[1;34m\u001b[0m\n\u001b[1;32m----> 1\u001b[1;33m \u001b[0mX\u001b[0m \u001b[1;33m=\u001b[0m \u001b[0mdata\u001b[0m\u001b[1;33m.\u001b[0m\u001b[0mdrop\u001b[0m\u001b[1;33m(\u001b[0m\u001b[0mcolumns\u001b[0m\u001b[1;33m=\u001b[0m\u001b[1;34m'fetal_health'\u001b[0m\u001b[1;33m)\u001b[0m\u001b[1;33m\u001b[0m\u001b[1;33m\u001b[0m\u001b[0m\n\u001b[0m\u001b[0;32m      2\u001b[0m \u001b[0my\u001b[0m \u001b[1;33m=\u001b[0m \u001b[0mdata\u001b[0m\u001b[1;33m[\u001b[0m\u001b[1;34m'fetal_health'\u001b[0m\u001b[1;33m]\u001b[0m\u001b[1;33m\u001b[0m\u001b[1;33m\u001b[0m\u001b[0m\n",
      "\u001b[1;31mNameError\u001b[0m: name 'data' is not defined"
     ]
    }
   ],
   "source": [
    "X = data.drop(columns='fetal_health')\n",
    "y = data['fetal_health']"
   ]
  },
  {
   "cell_type": "code",
   "execution_count": 15,
   "metadata": {
    "execution": {
     "iopub.execute_input": "2021-12-08T21:06:29.741581Z",
     "iopub.status.busy": "2021-12-08T21:06:29.740924Z",
     "iopub.status.idle": "2021-12-08T21:06:29.776913Z",
     "shell.execute_reply": "2021-12-08T21:06:29.775807Z",
     "shell.execute_reply.started": "2021-12-08T21:06:29.741534Z"
    }
   },
   "outputs": [
    {
     "ename": "NameError",
     "evalue": "name 'X' is not defined",
     "output_type": "error",
     "traceback": [
      "\u001b[1;31m---------------------------------------------------------------------------\u001b[0m",
      "\u001b[1;31mNameError\u001b[0m                                 Traceback (most recent call last)",
      "\u001b[1;32m<ipython-input-15-51f3aa4f02c6>\u001b[0m in \u001b[0;36m<module>\u001b[1;34m\u001b[0m\n\u001b[0;32m      1\u001b[0m \u001b[1;31m#Mise à l'échelle des données les donnees entre 0 et 1\u001b[0m\u001b[1;33m\u001b[0m\u001b[1;33m\u001b[0m\u001b[1;33m\u001b[0m\u001b[0m\n\u001b[1;32m----> 2\u001b[1;33m \u001b[0mX_scaled\u001b[0m \u001b[1;33m=\u001b[0m \u001b[0mMinMaxScaler\u001b[0m\u001b[1;33m(\u001b[0m\u001b[1;33m)\u001b[0m\u001b[1;33m.\u001b[0m\u001b[0mfit_transform\u001b[0m\u001b[1;33m(\u001b[0m\u001b[0mX\u001b[0m\u001b[1;33m.\u001b[0m\u001b[0mvalues\u001b[0m\u001b[1;33m)\u001b[0m\u001b[1;33m\u001b[0m\u001b[1;33m\u001b[0m\u001b[0m\n\u001b[0m\u001b[0;32m      3\u001b[0m \u001b[0mX\u001b[0m\u001b[1;33m=\u001b[0m\u001b[0mpd\u001b[0m\u001b[1;33m.\u001b[0m\u001b[0mDataFrame\u001b[0m\u001b[1;33m(\u001b[0m\u001b[0mX_scaled\u001b[0m\u001b[1;33m,\u001b[0m \u001b[0mindex\u001b[0m\u001b[1;33m=\u001b[0m\u001b[0mX\u001b[0m\u001b[1;33m.\u001b[0m\u001b[0mindex\u001b[0m\u001b[1;33m,\u001b[0m \u001b[0mcolumns\u001b[0m\u001b[1;33m=\u001b[0m\u001b[0mX\u001b[0m\u001b[1;33m.\u001b[0m\u001b[0mcolumns\u001b[0m\u001b[1;33m)\u001b[0m\u001b[1;33m\u001b[0m\u001b[1;33m\u001b[0m\u001b[0m\n\u001b[0;32m      4\u001b[0m \u001b[0mX\u001b[0m\u001b[1;33m.\u001b[0m\u001b[0mhead\u001b[0m\u001b[1;33m(\u001b[0m\u001b[1;33m)\u001b[0m\u001b[1;33m\u001b[0m\u001b[1;33m\u001b[0m\u001b[0m\n",
      "\u001b[1;31mNameError\u001b[0m: name 'X' is not defined"
     ]
    }
   ],
   "source": [
    "#Mise à l'échelle des données les donnees entre 0 et 1\n",
    "X_scaled = MinMaxScaler().fit_transform(X.values)\n",
    "X=pd.DataFrame(X_scaled, index=X.index, columns=X.columns)\n",
    "X.head()"
   ]
  },
  {
   "cell_type": "markdown",
   "metadata": {},
   "source": [
    "<h1 style=\"background-color:LightSeaGreen; font-family:newtimeroman; font-size:200%; text-align:left;\"> 3.3 Data split </h1>"
   ]
  },
  {
   "cell_type": "code",
   "execution_count": null,
   "metadata": {
    "execution": {
     "iopub.execute_input": "2021-12-08T21:06:29.780579Z",
     "iopub.status.busy": "2021-12-08T21:06:29.779994Z",
     "iopub.status.idle": "2021-12-08T21:06:29.793170Z",
     "shell.execute_reply": "2021-12-08T21:06:29.791799Z",
     "shell.execute_reply.started": "2021-12-08T21:06:29.780518Z"
    }
   },
   "outputs": [],
   "source": [
    "print('\\nData split:\\nTest size: {}\\nVal  size: {}\\n'.format(TEST_SIZE,VAL_SIZE))\n",
    "\n",
    "X_train, X_test, y_train, y_test = train_test_split(X_scaled, y, stratify=y, \n",
    "                                                    test_size = TEST_SIZE, \n",
    "                                                    random_state=SEED)\n",
    "\n",
    "print('TRAIN: {} & {}'.format(X_train.shape, y_train.shape))\n",
    "print('TEST:  {} & {}'.format(X_test.shape, y_test.shape))\n",
    "\n",
    "val_len = int(X_train.shape[0]*VAL_SIZE)\n",
    "#faire devise les donne on deux parties (train,test)"
   ]
  },
  {
   "cell_type": "markdown",
   "metadata": {},
   "source": [
    "<h1 style=\"background-color:LightSeaGreen; font-family:newtimeroman; font-size:200%; text-align:left;\"> 3.4 Class weights </h1>"
   ]
  },
  {
   "cell_type": "code",
   "execution_count": null,
   "metadata": {
    "execution": {
     "iopub.execute_input": "2021-12-08T21:06:29.795275Z",
     "iopub.status.busy": "2021-12-08T21:06:29.794844Z",
     "iopub.status.idle": "2021-12-08T21:06:29.807392Z",
     "shell.execute_reply": "2021-12-08T21:06:29.805607Z",
     "shell.execute_reply.started": "2021-12-08T21:06:29.795234Z"
    }
   },
   "outputs": [],
   "source": [
    "# Calculate class weights from sklearn\n",
    "#Estimez les poids de classe pour les ensembles de données déséquilibrés\n",
    "class_weight_array = class_weight.compute_class_weight('balanced', \n",
    "                                                       np.unique(y_train), \n",
    "                                                       y_train)\n",
    "print('\\nClass weights: {}'.format(class_weight_array)) \n",
    "\n",
    "# Class weights as dictionary for Keras\n",
    "#comme une dictionnary pour donne a chaque keys le poid \n",
    "keys = [0,1,2] \n",
    "class_weight_dict = dict(zip(keys, class_weight_array.T))\n",
    "print('\\nClass weights dict: {}'.format(class_weight_dict))"
   ]
  },
  {
   "cell_type": "markdown",
   "metadata": {},
   "source": [
    "<h1 style=\"background-color:LightSeaGreen; font-family:newtimeroman; font-size:200%; text-align:left;\"> 3.5 Validation set </h1>"
   ]
  },
  {
   "cell_type": "code",
   "execution_count": null,
   "metadata": {
    "execution": {
     "iopub.execute_input": "2021-12-08T21:06:29.809499Z",
     "iopub.status.busy": "2021-12-08T21:06:29.808816Z",
     "iopub.status.idle": "2021-12-08T21:06:29.819266Z",
     "shell.execute_reply": "2021-12-08T21:06:29.818428Z",
     "shell.execute_reply.started": "2021-12-08T21:06:29.809447Z"
    }
   },
   "outputs": [],
   "source": [
    "X_val = X_train[:val_len]\n",
    "y_val = y_train[:val_len]\n",
    "#val_len size de \n",
    "X_train_cut = X_train[val_len:]\n",
    "y_train_cut = y_train[val_len:]"
   ]
  },
  {
   "cell_type": "markdown",
   "metadata": {},
   "source": [
    "<h1 style=\"background-color:LightSeaGreen; font-family:newtimeroman; font-size:200%; text-align:left;\"> 4 Model </h1>"
   ]
  },
  {
   "cell_type": "markdown",
   "metadata": {},
   "source": [
    "<h1 style=\"background-color:LightSeaGreen; font-family:newtimeroman; font-size:200%; text-align:left;\"> 4.1 Build model </h1>"
   ]
  },
  {
   "cell_type": "code",
   "execution_count": null,
   "metadata": {
    "execution": {
     "iopub.execute_input": "2021-12-08T21:06:29.821085Z",
     "iopub.status.busy": "2021-12-08T21:06:29.820652Z",
     "iopub.status.idle": "2021-12-08T21:06:29.832432Z",
     "shell.execute_reply": "2021-12-08T21:06:29.831368Z",
     "shell.execute_reply.started": "2021-12-08T21:06:29.821040Z"
    }
   },
   "outputs": [],
   "source": [
    "fit_params={\"early_stopping_rounds\":10, \n",
    "            \"eval_metric\" : 'auc_mu', \n",
    "            \"eval_set\" : [(X_val,y_val)],\n",
    "            'eval_names': ['valid'],\n",
    "            'verbose': 100,\n",
    "            'feature_name': 'auto'\n",
    "           }\n",
    "#cest  paramètre de modele"
   ]
  },
  {
   "cell_type": "code",
   "execution_count": null,
   "metadata": {
    "execution": {
     "iopub.execute_input": "2021-12-08T21:06:29.834480Z",
     "iopub.status.busy": "2021-12-08T21:06:29.834075Z",
     "iopub.status.idle": "2021-12-08T21:06:29.844963Z",
     "shell.execute_reply": "2021-12-08T21:06:29.844035Z",
     "shell.execute_reply.started": "2021-12-08T21:06:29.834438Z"
    }
   },
   "outputs": [],
   "source": [
    "clf = lgb.LGBMClassifier(boosting_type = 'gbdt',\n",
    "                         objective='multiclass',\n",
    "                         metric='auc_mu', \n",
    "                         class_weight=class_weight_dict,\n",
    "                         n_estimators=100,\n",
    "                         num_leaves= 31,\n",
    "                         colsample_bytree=1.0,\n",
    "                         subsample=1.0,\n",
    "                         learning_rate=0.1,\n",
    "                         max_depth=-1, \n",
    "                         random_state=SEED, \n",
    "                         #silent=True, \n",
    "                         #n_jobs=4, \n",
    ")\n",
    "#modele utilise cest LGMC classifier \n",
    "#clf cest le modele\n"
   ]
  },
  {
   "cell_type": "markdown",
   "metadata": {},
   "source": [
    "<h1 style=\"background-color:LightSeaGreen; font-family:newtimeroman; font-size:200%; text-align:left;\"> 4.2 Fit model </h1>"
   ]
  },
  {
   "cell_type": "code",
   "execution_count": null,
   "metadata": {
    "execution": {
     "iopub.execute_input": "2021-12-08T21:06:29.847038Z",
     "iopub.status.busy": "2021-12-08T21:06:29.846608Z",
     "iopub.status.idle": "2021-12-08T21:06:30.089712Z",
     "shell.execute_reply": "2021-12-08T21:06:30.088816Z",
     "shell.execute_reply.started": "2021-12-08T21:06:29.846979Z"
    }
   },
   "outputs": [],
   "source": [
    "clf.fit(X_train_cut, y_train_cut, **fit_params)\n",
    "#appliquee le modele sur les donne train "
   ]
  },
  {
   "cell_type": "markdown",
   "metadata": {},
   "source": [
    "<h1 style=\"background-color:LightSeaGreen; font-family:newtimeroman; font-size:200%; text-align:left;\"> 4.3 Feature importance </h1>"
   ]
  },
  {
   "cell_type": "code",
   "execution_count": null,
   "metadata": {
    "execution": {
     "iopub.execute_input": "2021-12-08T21:06:30.096466Z",
     "iopub.status.busy": "2021-12-08T21:06:30.094607Z",
     "iopub.status.idle": "2021-12-08T21:06:30.715141Z",
     "shell.execute_reply": "2021-12-08T21:06:30.714093Z",
     "shell.execute_reply.started": "2021-12-08T21:06:30.096421Z"
    }
   },
   "outputs": [],
   "source": [
    "#cette partie est utilisee pour faire avoir les colonnees les plus importants\n",
    "plt.figure(figsize=(15,9))\n",
    "\n",
    "plt.title('LightGBM feature importances', fontsize=18)\n",
    "plt.xlabel('Importance', fontsize=16)\n",
    "plt.ylabel('Feature', fontsize=16)\n",
    "\n",
    "feat_imp = pd.Series(clf.feature_importances_, index=X.columns)\n",
    "feat_imp.nlargest(34).plot(kind='barh', color='tab:orange')\n",
    "\n",
    "plt.tight_layout()\n",
    "\n",
    "plt.savefig('lgbm_kfold_feature_importances_default.png')"
   ]
  },
  {
   "cell_type": "markdown",
   "metadata": {},
   "source": [
    "<h1 style=\"background-color:LightSeaGreen; font-family:newtimeroman; font-size:200%; text-align:left;\"> 5 Grid search </h1>"
   ]
  },
  {
   "cell_type": "markdown",
   "metadata": {},
   "source": [
    "<h1 style=\"background-color:LightSeaGreen; font-family:newtimeroman; font-size:200%; text-align:left;\"> 5.1 Grid parameters </h1>"
   ]
  },
  {
   "cell_type": "code",
   "execution_count": null,
   "metadata": {
    "execution": {
     "iopub.execute_input": "2021-12-08T21:06:30.718321Z",
     "iopub.status.busy": "2021-12-08T21:06:30.718019Z",
     "iopub.status.idle": "2021-12-08T21:06:30.724249Z",
     "shell.execute_reply": "2021-12-08T21:06:30.723235Z",
     "shell.execute_reply.started": "2021-12-08T21:06:30.718293Z"
    }
   },
   "outputs": [],
   "source": [
    "# Ces paramètres seront utilisés dans la recherche de grille et seront trouvés des paramètres optimaux\n",
    "param_grid = {\n",
    "    'class_weight': [class_weight_dict],\n",
    "    'boosting_type': ['gbdt', 'dart'],\n",
    "    'objective': ['multiclass'],\n",
    "    'metric': ['auc_mu'],\n",
    "    'n_estimators': [100, 500],\n",
    "    'learning_rate': [0.01, 0.05, 0.1],\n",
    "    'num_leaves': [50, 100, 200],\n",
    "    'colsample_bytree': [0.6, 0.8],\n",
    "    'subsample': [0.7, 0.8],\n",
    "    'max_depth': [5, 10, 50],\n",
    "    'random_state': [SEED]\n",
    "}\n",
    "# 2160 fits (432x5), keep it not too big"
   ]
  },
  {
   "cell_type": "markdown",
   "metadata": {},
   "source": [
    "<h1 style=\"background-color:LightSeaGreen; font-family:newtimeroman; font-size:200%; text-align:left;\"> 5.2 Fit model</h1>"
   ]
  },
  {
   "cell_type": "code",
   "execution_count": null,
   "metadata": {
    "execution": {
     "iopub.execute_input": "2021-12-08T21:06:30.726091Z",
     "iopub.status.busy": "2021-12-08T21:06:30.725731Z",
     "iopub.status.idle": "2021-12-08T21:06:30.737426Z",
     "shell.execute_reply": "2021-12-08T21:06:30.736412Z",
     "shell.execute_reply.started": "2021-12-08T21:06:30.726049Z"
    }
   },
   "outputs": [],
   "source": [
    "lgbm = lgb.LGBMClassifier() \n",
    "#lgbm.fit(X_train_cut, y_train_cut)"
   ]
  },
  {
   "cell_type": "code",
   "execution_count": null,
   "metadata": {
    "execution": {
     "iopub.execute_input": "2021-12-08T21:06:30.741449Z",
     "iopub.status.busy": "2021-12-08T21:06:30.740937Z"
    }
   },
   "outputs": [],
   "source": [
    "%%time\n",
    "\n",
    "# Grid search with 5-fold cross-validation\n",
    "lgbm_cv = GridSearchCV(lgbm, \n",
    "                       param_grid, \n",
    "                       cv=5, \n",
    "                       n_jobs=None, \n",
    "                       verbose=0) # set to 2 for long output\n",
    "\n",
    "lgbm_cv.fit(X_train_cut, y_train_cut)\n",
    "#on a applique  le modele LGBMClassifier avec les paramètres de gridsearch \n"
   ]
  },
  {
   "cell_type": "markdown",
   "metadata": {},
   "source": [
    "<h1 style=\"background-color:LightSeaGreen; font-family:newtimeroman; font-size:200%; text-align:left;\"> 5.3 Save optimum parameters </h1>"
   ]
  },
  {
   "cell_type": "code",
   "execution_count": null,
   "metadata": {},
   "outputs": [],
   "source": [
    "# Print optimum parameters\n",
    "print('\\nGrid search optimum parameters:\\n{}'.format(lgbm_cv.best_params_))\n",
    "# Save the model parameters\n",
    "filename = 'model_lgbm_kfold_gridsearch_best_params.pickle'\n",
    "pickle.dump(lgbm_cv.best_params_, open(filename, 'wb'))\n",
    "# Load the model paarmeters\n",
    "with open(filename, 'rb') as file:\n",
    "    best_params = pickle.load(file)\n",
    "print('\\nGrid search optimum parameters [loaded]:\\n{}'.format(best_params))"
   ]
  },
  {
   "cell_type": "markdown",
   "metadata": {},
   "source": [
    "<h1 style=\"background-color:LightSeaGreen; font-family:newtimeroman; font-size:200%; text-align:left;\"> 5.4 Fit tuned model</h1>"
   ]
  },
  {
   "cell_type": "code",
   "execution_count": null,
   "metadata": {},
   "outputs": [],
   "source": [
    "# Modèle réglé avec des paramètres optimaux\n",
    "clf_tuned = lgb.LGBMClassifier(**best_params) # == lgbm_cv.best_params_\n",
    "\n",
    "# Fit model\n",
    "#on applique le modele sur data train avec les parametree optimaux\n",
    "clf_tuned.fit(X_train_cut, y_train_cut, **fit_params)\n",
    "\n",
    "# Predict\n",
    "#la prédiction consiste à ajuster une forme qui se rapproche le plus possible des données.\n",
    "y_test_pred_tuned = clf_tuned.predict(X_test) \n",
    "# Trouvez la précision de y_test et des prédictions, et arrondissez le résultatacc_tuned = round(accuracy_score(y_test, y_test_pred_tuned), 4) \n",
    "print('Accuracy: {}%'.format(acc_tuned*100))"
   ]
  },
  {
   "cell_type": "markdown",
   "metadata": {},
   "source": [
    "<h1 style=\"background-color:LightSeaGreen; font-family:newtimeroman; font-size:200%; text-align:left;\"> 5.5 Feature importance for tuned model</h1>"
   ]
  },
  {
   "cell_type": "code",
   "execution_count": null,
   "metadata": {},
   "outputs": [],
   "source": [
    "plt.figure(figsize=(15,9))\n",
    "plt.title('LightGBM feature importances [tuned] | acc = {}%'.format(acc_tuned*100), fontsize=18)\n",
    "plt.xlabel('Importance', fontsize=16)\n",
    "plt.ylabel('Feature', fontsize=16)\n",
    "feat_imp = pd.Series(clf_tuned.feature_importances_, index=X.columns)\n",
    "feat_imp.nlargest(50).plot(kind='barh', color='tab:orange')\n",
    "plt.tight_layout()\n",
    "plt.savefig('lgbm_5fold_feature_importances_tuned.png')"
   ]
  },
  {
   "cell_type": "code",
   "execution_count": null,
   "metadata": {},
   "outputs": [],
   "source": []
  },
  {
   "cell_type": "code",
   "execution_count": null,
   "metadata": {},
   "outputs": [],
   "source": [
    "#permettre de faire donne les 10 colonnes les plus important dans \n",
    "best_feat_10 = list(feat_imp.nlargest(10).index)\n",
    "best_feat_10"
   ]
  },
  {
   "cell_type": "code",
   "execution_count": null,
   "metadata": {},
   "outputs": [],
   "source": []
  },
  {
   "cell_type": "code",
   "execution_count": null,
   "metadata": {},
   "outputs": [],
   "source": []
  },
  {
   "cell_type": "code",
   "execution_count": null,
   "metadata": {},
   "outputs": [],
   "source": []
  },
  {
   "cell_type": "code",
   "execution_count": null,
   "metadata": {},
   "outputs": [],
   "source": []
  }
 ],
 "metadata": {
  "kernelspec": {
   "display_name": "Python 3",
   "language": "python",
   "name": "python3"
  },
  "language_info": {
   "codemirror_mode": {
    "name": "ipython",
    "version": 3
   },
   "file_extension": ".py",
   "mimetype": "text/x-python",
   "name": "python",
   "nbconvert_exporter": "python",
   "pygments_lexer": "ipython3",
   "version": "3.7.4"
  }
 },
 "nbformat": 4,
 "nbformat_minor": 4
}
